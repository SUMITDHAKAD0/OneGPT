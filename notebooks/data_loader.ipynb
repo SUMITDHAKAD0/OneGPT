{
 "cells": [
  {
   "cell_type": "markdown",
   "metadata": {},
   "source": [
    "1. Single file (pdf, word, txt, csv etc)\n",
    "2. Multiple file/Folder load(multiple files or same type)\n",
    "3. Web loader\n",
    "4. cloud loader (s3, glacear etc)"
   ]
  },
  {
   "cell_type": "markdown",
   "metadata": {},
   "source": []
  }
 ],
 "metadata": {
  "language_info": {
   "name": "python"
  }
 },
 "nbformat": 4,
 "nbformat_minor": 2
}
