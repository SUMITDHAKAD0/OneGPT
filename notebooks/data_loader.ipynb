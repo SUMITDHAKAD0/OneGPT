{
 "cells": [
  {
   "cell_type": "markdown",
   "metadata": {},
   "source": [
    "1. Single file (pdf, word, txt, csv etc)\n",
    "2. Multiple file/Folder load(multiple files or same type)\n",
    "3. Web loader\n",
    "4. cloud loader (s3, glacear etc)"
   ]
  },
  {
   "cell_type": "code",
   "execution_count": 14,
   "metadata": {},
   "outputs": [
    {
     "name": "stdout",
     "output_type": "stream",
     "text": [
      "[Document(metadata={'source': 'data/cost.csv', 'row': 0}, page_content='timestamp: 1725235200.0\\ncurrency: usd\\nname: Embedding models\\ncost: 8.69685\\norganization_id: org-lFLRSnYTUbaYjeeHL5LSQ5eF\\norganization_name: Personal\\ncost_in_major: 0.08696850\\ndate: 2024-09-02'), Document(metadata={'source': 'data/cost.csv', 'row': 1}, page_content='timestamp: 1725235200.0\\ncurrency: usd\\nname: GPT-3.5 Turbo\\ncost: 1173.6399\\norganization_id: org-lFLRSnYTUbaYjeeHL5LSQ5eF\\norganization_name: Personal\\ncost_in_major: 11.73639900\\ndate: 2024-09-02'), Document(metadata={'source': 'data/cost.csv', 'row': 2}, page_content='timestamp: 1725321600.0\\ncurrency: usd\\nname: Embedding models\\ncost: 26.10695\\norganization_id: org-lFLRSnYTUbaYjeeHL5LSQ5eF\\norganization_name: Personal\\ncost_in_major: 0.26106950\\ndate: 2024-09-03'), Document(metadata={'source': 'data/cost.csv', 'row': 3}, page_content='timestamp: 1725321600.0\\ncurrency: usd\\nname: GPT-3.5 Turbo\\ncost: 3237.4868\\norganization_id: org-lFLRSnYTUbaYjeeHL5LSQ5eF\\norganization_name: Personal\\ncost_in_major: 32.37486800\\ndate: 2024-09-03'), Document(metadata={'source': 'data/cost.csv', 'row': 4}, page_content='timestamp: 1725408000.0\\ncurrency: usd\\nname: Embedding models\\ncost: 2.77726\\norganization_id: org-lFLRSnYTUbaYjeeHL5LSQ5eF\\norganization_name: Personal\\ncost_in_major: 0.02777260\\ndate: 2024-09-04'), Document(metadata={'source': 'data/cost.csv', 'row': 5}, page_content='timestamp: 1725408000.0\\ncurrency: usd\\nname: GPT-3.5 Turbo\\ncost: 344.32235\\norganization_id: org-lFLRSnYTUbaYjeeHL5LSQ5eF\\norganization_name: Personal\\ncost_in_major: 3.44322350\\ndate: 2024-09-04')]\n"
     ]
    }
   ],
   "source": [
    "from langchain_community.document_loaders.csv_loader import CSVLoader\n",
    "\n",
    "loader = CSVLoader(file_path=\"data/cost.csv\")\n",
    "\n",
    "data = loader.load()\n",
    "\n",
    "print(data)"
   ]
  },
  {
   "cell_type": "markdown",
   "metadata": {},
   "source": []
  }
 ],
 "metadata": {
  "kernelspec": {
   "display_name": "onegpt",
   "language": "python",
   "name": "python3"
  },
  "language_info": {
   "codemirror_mode": {
    "name": "ipython",
    "version": 3
   },
   "file_extension": ".py",
   "mimetype": "text/x-python",
   "name": "python",
   "nbconvert_exporter": "python",
   "pygments_lexer": "ipython3",
   "version": "3.10.14"
  }
 },
 "nbformat": 4,
 "nbformat_minor": 2
}
